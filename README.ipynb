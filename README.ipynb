[![Open In Colab](https://colab.research.google.com/assets/colab-badge.svg)](https://github.com/Tsiiii24/Getting_into_Business/blob/main/Capstonesub.ipynb)
